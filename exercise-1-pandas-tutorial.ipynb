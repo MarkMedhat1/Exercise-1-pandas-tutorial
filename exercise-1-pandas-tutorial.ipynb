{
 "cells": [
  {
   "cell_type": "markdown",
   "id": "6b87c62a",
   "metadata": {
    "papermill": {
     "duration": 0.00834,
     "end_time": "2024-04-19T04:39:51.673186",
     "exception": false,
     "start_time": "2024-04-19T04:39:51.664846",
     "status": "completed"
    },
    "tags": []
   },
   "source": [
    "# Exercise 1"
   ]
  },
  {
   "cell_type": "markdown",
   "id": "4261cad7",
   "metadata": {
    "papermill": {
     "duration": 0.006832,
     "end_time": "2024-04-19T04:39:51.687375",
     "exception": false,
     "start_time": "2024-04-19T04:39:51.680543",
     "status": "completed"
    },
    "tags": []
   },
   "source": [
    "### Step 1. Go to https://www.kaggle.com/openfoodfacts/world-food-facts/data"
   ]
  },
  {
   "cell_type": "markdown",
   "id": "f2c201a6",
   "metadata": {
    "papermill": {
     "duration": 0.007472,
     "end_time": "2024-04-19T04:39:51.702040",
     "exception": false,
     "start_time": "2024-04-19T04:39:51.694568",
     "status": "completed"
    },
    "tags": []
   },
   "source": [
    "### Step 2. Download the dataset to your computer and unzip it."
   ]
  },
  {
   "cell_type": "markdown",
   "id": "e5637b99",
   "metadata": {
    "papermill": {
     "duration": 0.006888,
     "end_time": "2024-04-19T04:39:51.716096",
     "exception": false,
     "start_time": "2024-04-19T04:39:51.709208",
     "status": "completed"
    },
    "tags": []
   },
   "source": [
    "### Step 3. Use the tsv file and assign it to a dataframe called food"
   ]
  },
  {
   "cell_type": "code",
   "execution_count": 1,
   "id": "c961956d",
   "metadata": {
    "execution": {
     "iopub.execute_input": "2024-04-19T04:39:51.733057Z",
     "iopub.status.busy": "2024-04-19T04:39:51.732211Z",
     "iopub.status.idle": "2024-04-19T04:39:52.733252Z",
     "shell.execute_reply": "2024-04-19T04:39:52.732101Z"
    },
    "papermill": {
     "duration": 1.012763,
     "end_time": "2024-04-19T04:39:52.736034",
     "exception": false,
     "start_time": "2024-04-19T04:39:51.723271",
     "status": "completed"
    },
    "tags": []
   },
   "outputs": [],
   "source": [
    "import pandas as pd"
   ]
  },
  {
   "cell_type": "code",
   "execution_count": 2,
   "id": "468386e9",
   "metadata": {
    "execution": {
     "iopub.execute_input": "2024-04-19T04:39:52.752745Z",
     "iopub.status.busy": "2024-04-19T04:39:52.752210Z",
     "iopub.status.idle": "2024-04-19T04:40:37.610545Z",
     "shell.execute_reply": "2024-04-19T04:40:37.609139Z"
    },
    "papermill": {
     "duration": 44.870235,
     "end_time": "2024-04-19T04:40:37.613720",
     "exception": false,
     "start_time": "2024-04-19T04:39:52.743485",
     "status": "completed"
    },
    "tags": []
   },
   "outputs": [],
   "source": [
    "food = pd.read_csv(\"/kaggle/input/world-food-facts/en.openfoodfacts.org.products.tsv\", sep=\"\\t\",dtype=str, low_memory=False)"
   ]
  },
  {
   "cell_type": "markdown",
   "id": "0cac723d",
   "metadata": {
    "papermill": {
     "duration": 0.007185,
     "end_time": "2024-04-19T04:40:37.628871",
     "exception": false,
     "start_time": "2024-04-19T04:40:37.621686",
     "status": "completed"
    },
    "tags": []
   },
   "source": [
    "### Step 4. See the first 5 entries"
   ]
  },
  {
   "cell_type": "code",
   "execution_count": 3,
   "id": "01a95e86",
   "metadata": {
    "execution": {
     "iopub.execute_input": "2024-04-19T04:40:37.646224Z",
     "iopub.status.busy": "2024-04-19T04:40:37.645699Z",
     "iopub.status.idle": "2024-04-19T04:40:37.685134Z",
     "shell.execute_reply": "2024-04-19T04:40:37.683609Z"
    },
    "papermill": {
     "duration": 0.051417,
     "end_time": "2024-04-19T04:40:37.687853",
     "exception": false,
     "start_time": "2024-04-19T04:40:37.636436",
     "status": "completed"
    },
    "tags": []
   },
   "outputs": [
    {
     "data": {
      "text/html": [
       "<div>\n",
       "<style scoped>\n",
       "    .dataframe tbody tr th:only-of-type {\n",
       "        vertical-align: middle;\n",
       "    }\n",
       "\n",
       "    .dataframe tbody tr th {\n",
       "        vertical-align: top;\n",
       "    }\n",
       "\n",
       "    .dataframe thead th {\n",
       "        text-align: right;\n",
       "    }\n",
       "</style>\n",
       "<table border=\"1\" class=\"dataframe\">\n",
       "  <thead>\n",
       "    <tr style=\"text-align: right;\">\n",
       "      <th></th>\n",
       "      <th>code</th>\n",
       "      <th>url</th>\n",
       "      <th>creator</th>\n",
       "      <th>created_t</th>\n",
       "      <th>created_datetime</th>\n",
       "      <th>last_modified_t</th>\n",
       "      <th>last_modified_datetime</th>\n",
       "      <th>product_name</th>\n",
       "      <th>generic_name</th>\n",
       "      <th>quantity</th>\n",
       "      <th>...</th>\n",
       "      <th>fruits-vegetables-nuts_100g</th>\n",
       "      <th>fruits-vegetables-nuts-estimate_100g</th>\n",
       "      <th>collagen-meat-protein-ratio_100g</th>\n",
       "      <th>cocoa_100g</th>\n",
       "      <th>chlorophyl_100g</th>\n",
       "      <th>carbon-footprint_100g</th>\n",
       "      <th>nutrition-score-fr_100g</th>\n",
       "      <th>nutrition-score-uk_100g</th>\n",
       "      <th>glycemic-index_100g</th>\n",
       "      <th>water-hardness_100g</th>\n",
       "    </tr>\n",
       "  </thead>\n",
       "  <tbody>\n",
       "    <tr>\n",
       "      <th>0</th>\n",
       "      <td>0000000003087</td>\n",
       "      <td>http://world-en.openfoodfacts.org/product/0000...</td>\n",
       "      <td>openfoodfacts-contributors</td>\n",
       "      <td>1474103866</td>\n",
       "      <td>2016-09-17T09:17:46Z</td>\n",
       "      <td>1474103893</td>\n",
       "      <td>2016-09-17T09:18:13Z</td>\n",
       "      <td>Farine de blé noir</td>\n",
       "      <td>NaN</td>\n",
       "      <td>1kg</td>\n",
       "      <td>...</td>\n",
       "      <td>NaN</td>\n",
       "      <td>NaN</td>\n",
       "      <td>NaN</td>\n",
       "      <td>NaN</td>\n",
       "      <td>NaN</td>\n",
       "      <td>NaN</td>\n",
       "      <td>NaN</td>\n",
       "      <td>NaN</td>\n",
       "      <td>NaN</td>\n",
       "      <td>NaN</td>\n",
       "    </tr>\n",
       "    <tr>\n",
       "      <th>1</th>\n",
       "      <td>0000000004530</td>\n",
       "      <td>http://world-en.openfoodfacts.org/product/0000...</td>\n",
       "      <td>usda-ndb-import</td>\n",
       "      <td>1489069957</td>\n",
       "      <td>2017-03-09T14:32:37Z</td>\n",
       "      <td>1489069957</td>\n",
       "      <td>2017-03-09T14:32:37Z</td>\n",
       "      <td>Banana Chips Sweetened (Whole)</td>\n",
       "      <td>NaN</td>\n",
       "      <td>NaN</td>\n",
       "      <td>...</td>\n",
       "      <td>NaN</td>\n",
       "      <td>NaN</td>\n",
       "      <td>NaN</td>\n",
       "      <td>NaN</td>\n",
       "      <td>NaN</td>\n",
       "      <td>NaN</td>\n",
       "      <td>14</td>\n",
       "      <td>14</td>\n",
       "      <td>NaN</td>\n",
       "      <td>NaN</td>\n",
       "    </tr>\n",
       "    <tr>\n",
       "      <th>2</th>\n",
       "      <td>0000000004559</td>\n",
       "      <td>http://world-en.openfoodfacts.org/product/0000...</td>\n",
       "      <td>usda-ndb-import</td>\n",
       "      <td>1489069957</td>\n",
       "      <td>2017-03-09T14:32:37Z</td>\n",
       "      <td>1489069957</td>\n",
       "      <td>2017-03-09T14:32:37Z</td>\n",
       "      <td>Peanuts</td>\n",
       "      <td>NaN</td>\n",
       "      <td>NaN</td>\n",
       "      <td>...</td>\n",
       "      <td>NaN</td>\n",
       "      <td>NaN</td>\n",
       "      <td>NaN</td>\n",
       "      <td>NaN</td>\n",
       "      <td>NaN</td>\n",
       "      <td>NaN</td>\n",
       "      <td>0</td>\n",
       "      <td>0</td>\n",
       "      <td>NaN</td>\n",
       "      <td>NaN</td>\n",
       "    </tr>\n",
       "    <tr>\n",
       "      <th>3</th>\n",
       "      <td>0000000016087</td>\n",
       "      <td>http://world-en.openfoodfacts.org/product/0000...</td>\n",
       "      <td>usda-ndb-import</td>\n",
       "      <td>1489055731</td>\n",
       "      <td>2017-03-09T10:35:31Z</td>\n",
       "      <td>1489055731</td>\n",
       "      <td>2017-03-09T10:35:31Z</td>\n",
       "      <td>Organic Salted Nut Mix</td>\n",
       "      <td>NaN</td>\n",
       "      <td>NaN</td>\n",
       "      <td>...</td>\n",
       "      <td>NaN</td>\n",
       "      <td>NaN</td>\n",
       "      <td>NaN</td>\n",
       "      <td>NaN</td>\n",
       "      <td>NaN</td>\n",
       "      <td>NaN</td>\n",
       "      <td>12</td>\n",
       "      <td>12</td>\n",
       "      <td>NaN</td>\n",
       "      <td>NaN</td>\n",
       "    </tr>\n",
       "    <tr>\n",
       "      <th>4</th>\n",
       "      <td>0000000016094</td>\n",
       "      <td>http://world-en.openfoodfacts.org/product/0000...</td>\n",
       "      <td>usda-ndb-import</td>\n",
       "      <td>1489055653</td>\n",
       "      <td>2017-03-09T10:34:13Z</td>\n",
       "      <td>1489055653</td>\n",
       "      <td>2017-03-09T10:34:13Z</td>\n",
       "      <td>Organic Polenta</td>\n",
       "      <td>NaN</td>\n",
       "      <td>NaN</td>\n",
       "      <td>...</td>\n",
       "      <td>NaN</td>\n",
       "      <td>NaN</td>\n",
       "      <td>NaN</td>\n",
       "      <td>NaN</td>\n",
       "      <td>NaN</td>\n",
       "      <td>NaN</td>\n",
       "      <td>NaN</td>\n",
       "      <td>NaN</td>\n",
       "      <td>NaN</td>\n",
       "      <td>NaN</td>\n",
       "    </tr>\n",
       "  </tbody>\n",
       "</table>\n",
       "<p>5 rows × 163 columns</p>\n",
       "</div>"
      ],
      "text/plain": [
       "            code                                                url  \\\n",
       "0  0000000003087  http://world-en.openfoodfacts.org/product/0000...   \n",
       "1  0000000004530  http://world-en.openfoodfacts.org/product/0000...   \n",
       "2  0000000004559  http://world-en.openfoodfacts.org/product/0000...   \n",
       "3  0000000016087  http://world-en.openfoodfacts.org/product/0000...   \n",
       "4  0000000016094  http://world-en.openfoodfacts.org/product/0000...   \n",
       "\n",
       "                      creator   created_t      created_datetime  \\\n",
       "0  openfoodfacts-contributors  1474103866  2016-09-17T09:17:46Z   \n",
       "1             usda-ndb-import  1489069957  2017-03-09T14:32:37Z   \n",
       "2             usda-ndb-import  1489069957  2017-03-09T14:32:37Z   \n",
       "3             usda-ndb-import  1489055731  2017-03-09T10:35:31Z   \n",
       "4             usda-ndb-import  1489055653  2017-03-09T10:34:13Z   \n",
       "\n",
       "  last_modified_t last_modified_datetime                    product_name  \\\n",
       "0      1474103893   2016-09-17T09:18:13Z              Farine de blé noir   \n",
       "1      1489069957   2017-03-09T14:32:37Z  Banana Chips Sweetened (Whole)   \n",
       "2      1489069957   2017-03-09T14:32:37Z                         Peanuts   \n",
       "3      1489055731   2017-03-09T10:35:31Z          Organic Salted Nut Mix   \n",
       "4      1489055653   2017-03-09T10:34:13Z                 Organic Polenta   \n",
       "\n",
       "  generic_name quantity  ... fruits-vegetables-nuts_100g  \\\n",
       "0          NaN      1kg  ...                         NaN   \n",
       "1          NaN      NaN  ...                         NaN   \n",
       "2          NaN      NaN  ...                         NaN   \n",
       "3          NaN      NaN  ...                         NaN   \n",
       "4          NaN      NaN  ...                         NaN   \n",
       "\n",
       "  fruits-vegetables-nuts-estimate_100g collagen-meat-protein-ratio_100g  \\\n",
       "0                                  NaN                              NaN   \n",
       "1                                  NaN                              NaN   \n",
       "2                                  NaN                              NaN   \n",
       "3                                  NaN                              NaN   \n",
       "4                                  NaN                              NaN   \n",
       "\n",
       "  cocoa_100g chlorophyl_100g carbon-footprint_100g nutrition-score-fr_100g  \\\n",
       "0        NaN             NaN                   NaN                     NaN   \n",
       "1        NaN             NaN                   NaN                      14   \n",
       "2        NaN             NaN                   NaN                       0   \n",
       "3        NaN             NaN                   NaN                      12   \n",
       "4        NaN             NaN                   NaN                     NaN   \n",
       "\n",
       "  nutrition-score-uk_100g glycemic-index_100g water-hardness_100g  \n",
       "0                     NaN                 NaN                 NaN  \n",
       "1                      14                 NaN                 NaN  \n",
       "2                       0                 NaN                 NaN  \n",
       "3                      12                 NaN                 NaN  \n",
       "4                     NaN                 NaN                 NaN  \n",
       "\n",
       "[5 rows x 163 columns]"
      ]
     },
     "execution_count": 3,
     "metadata": {},
     "output_type": "execute_result"
    }
   ],
   "source": [
    "food.head()"
   ]
  },
  {
   "cell_type": "markdown",
   "id": "b06883c0",
   "metadata": {
    "papermill": {
     "duration": 0.008065,
     "end_time": "2024-04-19T04:40:37.704627",
     "exception": false,
     "start_time": "2024-04-19T04:40:37.696562",
     "status": "completed"
    },
    "tags": []
   },
   "source": [
    "### Step 5. What is the number of observations in the dataset?"
   ]
  },
  {
   "cell_type": "code",
   "execution_count": 4,
   "id": "f760bd4e",
   "metadata": {
    "execution": {
     "iopub.execute_input": "2024-04-19T04:40:37.724770Z",
     "iopub.status.busy": "2024-04-19T04:40:37.724380Z",
     "iopub.status.idle": "2024-04-19T04:40:37.731450Z",
     "shell.execute_reply": "2024-04-19T04:40:37.729609Z"
    },
    "papermill": {
     "duration": 0.02015,
     "end_time": "2024-04-19T04:40:37.734342",
     "exception": false,
     "start_time": "2024-04-19T04:40:37.714192",
     "status": "completed"
    },
    "tags": []
   },
   "outputs": [
    {
     "name": "stdout",
     "output_type": "stream",
     "text": [
      "Number of observations: 356027\n"
     ]
    }
   ],
   "source": [
    "\n",
    "num_observations = food.shape[0]\n",
    "\n",
    "print(\"Number of observations:\", num_observations)\n"
   ]
  },
  {
   "cell_type": "markdown",
   "id": "19bb3b3b",
   "metadata": {
    "papermill": {
     "duration": 0.007738,
     "end_time": "2024-04-19T04:40:37.750107",
     "exception": false,
     "start_time": "2024-04-19T04:40:37.742369",
     "status": "completed"
    },
    "tags": []
   },
   "source": [
    "### Step 6. What is the number of columns in the dataset?"
   ]
  },
  {
   "cell_type": "code",
   "execution_count": 5,
   "id": "7a166378",
   "metadata": {
    "execution": {
     "iopub.execute_input": "2024-04-19T04:40:37.768560Z",
     "iopub.status.busy": "2024-04-19T04:40:37.768179Z",
     "iopub.status.idle": "2024-04-19T04:40:37.774399Z",
     "shell.execute_reply": "2024-04-19T04:40:37.773170Z"
    },
    "papermill": {
     "duration": 0.01812,
     "end_time": "2024-04-19T04:40:37.776929",
     "exception": false,
     "start_time": "2024-04-19T04:40:37.758809",
     "status": "completed"
    },
    "tags": []
   },
   "outputs": [
    {
     "name": "stdout",
     "output_type": "stream",
     "text": [
      "Number of columns: 163\n"
     ]
    }
   ],
   "source": [
    "\n",
    "num_columns = food.shape[1]\n",
    "\n",
    "print(\"Number of columns:\", num_columns)\n"
   ]
  },
  {
   "cell_type": "markdown",
   "id": "296f5b31",
   "metadata": {
    "papermill": {
     "duration": 0.007753,
     "end_time": "2024-04-19T04:40:37.792730",
     "exception": false,
     "start_time": "2024-04-19T04:40:37.784977",
     "status": "completed"
    },
    "tags": []
   },
   "source": [
    "### Step 7. Print the name of all the columns."
   ]
  },
  {
   "cell_type": "code",
   "execution_count": 6,
   "id": "86a05528",
   "metadata": {
    "execution": {
     "iopub.execute_input": "2024-04-19T04:40:37.812657Z",
     "iopub.status.busy": "2024-04-19T04:40:37.811631Z",
     "iopub.status.idle": "2024-04-19T04:40:37.821036Z",
     "shell.execute_reply": "2024-04-19T04:40:37.818201Z"
    },
    "papermill": {
     "duration": 0.021716,
     "end_time": "2024-04-19T04:40:37.823665",
     "exception": false,
     "start_time": "2024-04-19T04:40:37.801949",
     "status": "completed"
    },
    "tags": []
   },
   "outputs": [
    {
     "name": "stdout",
     "output_type": "stream",
     "text": [
      "Column names:\n",
      "code\n",
      "url\n",
      "creator\n",
      "created_t\n",
      "created_datetime\n",
      "last_modified_t\n",
      "last_modified_datetime\n",
      "product_name\n",
      "generic_name\n",
      "quantity\n",
      "packaging\n",
      "packaging_tags\n",
      "brands\n",
      "brands_tags\n",
      "categories\n",
      "categories_tags\n",
      "categories_en\n",
      "origins\n",
      "origins_tags\n",
      "manufacturing_places\n",
      "manufacturing_places_tags\n",
      "labels\n",
      "labels_tags\n",
      "labels_en\n",
      "emb_codes\n",
      "emb_codes_tags\n",
      "first_packaging_code_geo\n",
      "cities\n",
      "cities_tags\n",
      "purchase_places\n",
      "stores\n",
      "countries\n",
      "countries_tags\n",
      "countries_en\n",
      "ingredients_text\n",
      "allergens\n",
      "allergens_en\n",
      "traces\n",
      "traces_tags\n",
      "traces_en\n",
      "serving_size\n",
      "no_nutriments\n",
      "additives_n\n",
      "additives\n",
      "additives_tags\n",
      "additives_en\n",
      "ingredients_from_palm_oil_n\n",
      "ingredients_from_palm_oil\n",
      "ingredients_from_palm_oil_tags\n",
      "ingredients_that_may_be_from_palm_oil_n\n",
      "ingredients_that_may_be_from_palm_oil\n",
      "ingredients_that_may_be_from_palm_oil_tags\n",
      "nutrition_grade_uk\n",
      "nutrition_grade_fr\n",
      "pnns_groups_1\n",
      "pnns_groups_2\n",
      "states\n",
      "states_tags\n",
      "states_en\n",
      "main_category\n",
      "main_category_en\n",
      "image_url\n",
      "image_small_url\n",
      "energy_100g\n",
      "energy-from-fat_100g\n",
      "fat_100g\n",
      "saturated-fat_100g\n",
      "-butyric-acid_100g\n",
      "-caproic-acid_100g\n",
      "-caprylic-acid_100g\n",
      "-capric-acid_100g\n",
      "-lauric-acid_100g\n",
      "-myristic-acid_100g\n",
      "-palmitic-acid_100g\n",
      "-stearic-acid_100g\n",
      "-arachidic-acid_100g\n",
      "-behenic-acid_100g\n",
      "-lignoceric-acid_100g\n",
      "-cerotic-acid_100g\n",
      "-montanic-acid_100g\n",
      "-melissic-acid_100g\n",
      "monounsaturated-fat_100g\n",
      "polyunsaturated-fat_100g\n",
      "omega-3-fat_100g\n",
      "-alpha-linolenic-acid_100g\n",
      "-eicosapentaenoic-acid_100g\n",
      "-docosahexaenoic-acid_100g\n",
      "omega-6-fat_100g\n",
      "-linoleic-acid_100g\n",
      "-arachidonic-acid_100g\n",
      "-gamma-linolenic-acid_100g\n",
      "-dihomo-gamma-linolenic-acid_100g\n",
      "omega-9-fat_100g\n",
      "-oleic-acid_100g\n",
      "-elaidic-acid_100g\n",
      "-gondoic-acid_100g\n",
      "-mead-acid_100g\n",
      "-erucic-acid_100g\n",
      "-nervonic-acid_100g\n",
      "trans-fat_100g\n",
      "cholesterol_100g\n",
      "carbohydrates_100g\n",
      "sugars_100g\n",
      "-sucrose_100g\n",
      "-glucose_100g\n",
      "-fructose_100g\n",
      "-lactose_100g\n",
      "-maltose_100g\n",
      "-maltodextrins_100g\n",
      "starch_100g\n",
      "polyols_100g\n",
      "fiber_100g\n",
      "proteins_100g\n",
      "casein_100g\n",
      "serum-proteins_100g\n",
      "nucleotides_100g\n",
      "salt_100g\n",
      "sodium_100g\n",
      "alcohol_100g\n",
      "vitamin-a_100g\n",
      "beta-carotene_100g\n",
      "vitamin-d_100g\n",
      "vitamin-e_100g\n",
      "vitamin-k_100g\n",
      "vitamin-c_100g\n",
      "vitamin-b1_100g\n",
      "vitamin-b2_100g\n",
      "vitamin-pp_100g\n",
      "vitamin-b6_100g\n",
      "vitamin-b9_100g\n",
      "folates_100g\n",
      "vitamin-b12_100g\n",
      "biotin_100g\n",
      "pantothenic-acid_100g\n",
      "silica_100g\n",
      "bicarbonate_100g\n",
      "potassium_100g\n",
      "chloride_100g\n",
      "calcium_100g\n",
      "phosphorus_100g\n",
      "iron_100g\n",
      "magnesium_100g\n",
      "zinc_100g\n",
      "copper_100g\n",
      "manganese_100g\n",
      "fluoride_100g\n",
      "selenium_100g\n",
      "chromium_100g\n",
      "molybdenum_100g\n",
      "iodine_100g\n",
      "caffeine_100g\n",
      "taurine_100g\n",
      "ph_100g\n",
      "fruits-vegetables-nuts_100g\n",
      "fruits-vegetables-nuts-estimate_100g\n",
      "collagen-meat-protein-ratio_100g\n",
      "cocoa_100g\n",
      "chlorophyl_100g\n",
      "carbon-footprint_100g\n",
      "nutrition-score-fr_100g\n",
      "nutrition-score-uk_100g\n",
      "glycemic-index_100g\n",
      "water-hardness_100g\n"
     ]
    }
   ],
   "source": [
    "\n",
    "print(\"Column names:\")\n",
    "for column_name in food.columns:\n",
    "    print(column_name)\n"
   ]
  },
  {
   "cell_type": "markdown",
   "id": "12f17c13",
   "metadata": {
    "papermill": {
     "duration": 0.008688,
     "end_time": "2024-04-19T04:40:37.840789",
     "exception": false,
     "start_time": "2024-04-19T04:40:37.832101",
     "status": "completed"
    },
    "tags": []
   },
   "source": [
    "### Step 8. What is the name of 105th column?"
   ]
  },
  {
   "cell_type": "code",
   "execution_count": 7,
   "id": "3be4f3f8",
   "metadata": {
    "execution": {
     "iopub.execute_input": "2024-04-19T04:40:37.860297Z",
     "iopub.status.busy": "2024-04-19T04:40:37.859535Z",
     "iopub.status.idle": "2024-04-19T04:40:37.865509Z",
     "shell.execute_reply": "2024-04-19T04:40:37.864038Z"
    },
    "papermill": {
     "duration": 0.019045,
     "end_time": "2024-04-19T04:40:37.868374",
     "exception": false,
     "start_time": "2024-04-19T04:40:37.849329",
     "status": "completed"
    },
    "tags": []
   },
   "outputs": [
    {
     "name": "stdout",
     "output_type": "stream",
     "text": [
      "Name of the 105th column: -glucose_100g\n"
     ]
    }
   ],
   "source": [
    "\n",
    "column_105_name = food.columns[104]\n",
    "\n",
    "print(\"Name of the 105th column:\", column_105_name)\n",
    "\n"
   ]
  },
  {
   "cell_type": "markdown",
   "id": "46d0577f",
   "metadata": {
    "papermill": {
     "duration": 0.008193,
     "end_time": "2024-04-19T04:40:37.885952",
     "exception": false,
     "start_time": "2024-04-19T04:40:37.877759",
     "status": "completed"
    },
    "tags": []
   },
   "source": [
    "### Step 9. What is the type of the observations of the 105th column?"
   ]
  },
  {
   "cell_type": "code",
   "execution_count": 8,
   "id": "23be8b5d",
   "metadata": {
    "execution": {
     "iopub.execute_input": "2024-04-19T04:40:37.908131Z",
     "iopub.status.busy": "2024-04-19T04:40:37.907625Z",
     "iopub.status.idle": "2024-04-19T04:40:37.913359Z",
     "shell.execute_reply": "2024-04-19T04:40:37.911832Z"
    },
    "papermill": {
     "duration": 0.018659,
     "end_time": "2024-04-19T04:40:37.915719",
     "exception": false,
     "start_time": "2024-04-19T04:40:37.897060",
     "status": "completed"
    },
    "tags": []
   },
   "outputs": [],
   "source": [
    "import warnings\n",
    "warnings.filterwarnings(\"ignore\")"
   ]
  },
  {
   "cell_type": "code",
   "execution_count": 9,
   "id": "e75549fe",
   "metadata": {
    "execution": {
     "iopub.execute_input": "2024-04-19T04:40:37.935770Z",
     "iopub.status.busy": "2024-04-19T04:40:37.935303Z",
     "iopub.status.idle": "2024-04-19T04:40:37.943908Z",
     "shell.execute_reply": "2024-04-19T04:40:37.942091Z"
    },
    "papermill": {
     "duration": 0.022224,
     "end_time": "2024-04-19T04:40:37.946703",
     "exception": false,
     "start_time": "2024-04-19T04:40:37.924479",
     "status": "completed"
    },
    "tags": []
   },
   "outputs": [
    {
     "name": "stdout",
     "output_type": "stream",
     "text": [
      "Type of observations in the 105th column: object\n"
     ]
    }
   ],
   "source": [
    "\n",
    "column_105_type = food.dtypes[104]\n",
    "\n",
    "print(\"Type of observations in the 105th column:\", column_105_type)\n"
   ]
  },
  {
   "cell_type": "code",
   "execution_count": 10,
   "id": "96ba2432",
   "metadata": {
    "execution": {
     "iopub.execute_input": "2024-04-19T04:40:37.967892Z",
     "iopub.status.busy": "2024-04-19T04:40:37.966485Z",
     "iopub.status.idle": "2024-04-19T04:40:37.976020Z",
     "shell.execute_reply": "2024-04-19T04:40:37.974708Z"
    },
    "papermill": {
     "duration": 0.02315,
     "end_time": "2024-04-19T04:40:37.979066",
     "exception": false,
     "start_time": "2024-04-19T04:40:37.955916",
     "status": "completed"
    },
    "tags": []
   },
   "outputs": [
    {
     "name": "stdout",
     "output_type": "stream",
     "text": [
      "Type of observations in the 105th column: object\n"
     ]
    }
   ],
   "source": [
    "\n",
    "column_105_type = food.dtypes.iloc[104]\n",
    "\n",
    "print(\"Type of observations in the 105th column:\", column_105_type)\n"
   ]
  },
  {
   "cell_type": "markdown",
   "id": "fad0c773",
   "metadata": {
    "papermill": {
     "duration": 0.009506,
     "end_time": "2024-04-19T04:40:37.997415",
     "exception": false,
     "start_time": "2024-04-19T04:40:37.987909",
     "status": "completed"
    },
    "tags": []
   },
   "source": [
    "### Step 10. How is the dataset indexed?"
   ]
  },
  {
   "cell_type": "code",
   "execution_count": 11,
   "id": "76ea9c6c",
   "metadata": {
    "execution": {
     "iopub.execute_input": "2024-04-19T04:40:38.017892Z",
     "iopub.status.busy": "2024-04-19T04:40:38.017199Z",
     "iopub.status.idle": "2024-04-19T04:40:38.022635Z",
     "shell.execute_reply": "2024-04-19T04:40:38.021720Z"
    },
    "papermill": {
     "duration": 0.018951,
     "end_time": "2024-04-19T04:40:38.025183",
     "exception": false,
     "start_time": "2024-04-19T04:40:38.006232",
     "status": "completed"
    },
    "tags": []
   },
   "outputs": [
    {
     "name": "stdout",
     "output_type": "stream",
     "text": [
      "Type of index: <class 'pandas.core.indexes.range.RangeIndex'>\n"
     ]
    }
   ],
   "source": [
    "\n",
    "index_type = type(food.index)\n",
    "\n",
    "print(\"Type of index:\", index_type)\n"
   ]
  },
  {
   "cell_type": "markdown",
   "id": "a201c0eb",
   "metadata": {
    "papermill": {
     "duration": 0.008585,
     "end_time": "2024-04-19T04:40:38.042928",
     "exception": false,
     "start_time": "2024-04-19T04:40:38.034343",
     "status": "completed"
    },
    "tags": []
   },
   "source": [
    "### Step 11. What is the product name of the 19th observation?"
   ]
  },
  {
   "cell_type": "code",
   "execution_count": 12,
   "id": "f58b05a7",
   "metadata": {
    "execution": {
     "iopub.execute_input": "2024-04-19T04:40:38.063378Z",
     "iopub.status.busy": "2024-04-19T04:40:38.062970Z",
     "iopub.status.idle": "2024-04-19T04:40:38.069494Z",
     "shell.execute_reply": "2024-04-19T04:40:38.068228Z"
    },
    "papermill": {
     "duration": 0.019931,
     "end_time": "2024-04-19T04:40:38.072085",
     "exception": false,
     "start_time": "2024-04-19T04:40:38.052154",
     "status": "completed"
    },
    "tags": []
   },
   "outputs": [
    {
     "name": "stdout",
     "output_type": "stream",
     "text": [
      "Product name of the 19th observation: 0000000018197\n"
     ]
    }
   ],
   "source": [
    "\n",
    "product_name_19th = food.iloc[18, 0]  \n",
    "\n",
    "print(\"Product name of the 19th observation:\", product_name_19th)\n"
   ]
  }
 ],
 "metadata": {
  "anaconda-cloud": {},
  "kaggle": {
   "accelerator": "none",
   "dataSources": [
    {
     "datasetId": 20,
     "sourceId": 4275,
     "sourceType": "datasetVersion"
    }
   ],
   "dockerImageVersionId": 30702,
   "isGpuEnabled": false,
   "isInternetEnabled": true,
   "language": "python",
   "sourceType": "notebook"
  },
  "kernelspec": {
   "display_name": "Python 3",
   "language": "python",
   "name": "python3"
  },
  "language_info": {
   "codemirror_mode": {
    "name": "ipython",
    "version": 3
   },
   "file_extension": ".py",
   "mimetype": "text/x-python",
   "name": "python",
   "nbconvert_exporter": "python",
   "pygments_lexer": "ipython3",
   "version": "3.10.13"
  },
  "papermill": {
   "default_parameters": {},
   "duration": 50.602841,
   "end_time": "2024-04-19T04:40:39.104608",
   "environment_variables": {},
   "exception": null,
   "input_path": "__notebook__.ipynb",
   "output_path": "__notebook__.ipynb",
   "parameters": {},
   "start_time": "2024-04-19T04:39:48.501767",
   "version": "2.5.0"
  }
 },
 "nbformat": 4,
 "nbformat_minor": 5
}
